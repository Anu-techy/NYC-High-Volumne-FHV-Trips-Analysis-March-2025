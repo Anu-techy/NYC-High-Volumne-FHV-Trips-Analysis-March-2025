{
 "cells": [
  {
   "cell_type": "markdown",
   "id": "ccee3908-2802-483e-8b0c-bd95880f1fb3",
   "metadata": {},
   "source": [
    "<h1 align=\"center\" style=\"color:blue\">NYC Taxi Trips EDA -1</h1>"
   ]
  },
  {
   "cell_type": "code",
   "execution_count": 21,
   "id": "e4e4c631-7089-4438-9a12-d875f0fd60f7",
   "metadata": {},
   "outputs": [],
   "source": [
    "import pandas as pd\n",
    "import warnings\n",
    "warnings.filterwarnings('ignore')\n",
    "import seaborn as sns\n",
    "import matplotlib.pyplot as plt"
   ]
  },
  {
   "cell_type": "code",
   "execution_count": 160,
   "id": "dbacc1dd-0634-4702-a78e-50415a99b2e4",
   "metadata": {},
   "outputs": [
    {
     "data": {
      "text/plain": [
       "(20536879, 25)"
      ]
     },
     "execution_count": 160,
     "metadata": {},
     "output_type": "execute_result"
    }
   ],
   "source": [
    "df = pd.read_parquet('tripdata_march25.parquet')\n",
    "df.shape"
   ]
  },
  {
   "cell_type": "markdown",
   "id": "cd6721c6-a375-4f45-9b3d-0708318e0c74",
   "metadata": {},
   "source": [
    "<h2 align=\"center\" style=\"color:blue\">Data Cleaning</h2>"
   ]
  },
  {
   "cell_type": "markdown",
   "id": "55ad3419-c941-440c-b4bd-70fc21309c26",
   "metadata": {},
   "source": [
    "#### Checking Data Types"
   ]
  },
  {
   "cell_type": "code",
   "execution_count": 9,
   "id": "5b07b633-f11c-40c5-b2e4-38736676ae04",
   "metadata": {},
   "outputs": [
    {
     "name": "stdout",
     "output_type": "stream",
     "text": [
      "<class 'pandas.core.frame.DataFrame'>\n",
      "RangeIndex: 20536879 entries, 0 to 20536878\n",
      "Data columns (total 14 columns):\n",
      " #   Column                Dtype         \n",
      "---  ------                -----         \n",
      " 0   hvfhs_license_num     object        \n",
      " 1   request_datetime      datetime64[us]\n",
      " 2   pickup_datetime       datetime64[us]\n",
      " 3   dropoff_datetime      datetime64[us]\n",
      " 4   PULocationID          int32         \n",
      " 5   DOLocationID          int32         \n",
      " 6   trip_miles            float64       \n",
      " 7   base_passenger_fare   float64       \n",
      " 8   tolls                 float64       \n",
      " 9   congestion_surcharge  float64       \n",
      " 10  airport_fee           float64       \n",
      " 11  tips                  float64       \n",
      " 12  driver_pay            float64       \n",
      " 13  cbd_congestion_fee    float64       \n",
      "dtypes: datetime64[us](3), float64(8), int32(2), object(1)\n",
      "memory usage: 2.0+ GB\n"
     ]
    }
   ],
   "source": [
    "df.info()"
   ]
  },
  {
   "cell_type": "markdown",
   "id": "fb5d1215-3f2d-419f-91cf-1b5ab12836a7",
   "metadata": {},
   "source": [
    "#### Checking nulls"
   ]
  },
  {
   "cell_type": "code",
   "execution_count": 11,
   "id": "0fecc047-1b21-4dc8-954a-b7ac177c719f",
   "metadata": {},
   "outputs": [
    {
     "data": {
      "text/plain": [
       "hvfhs_license_num       0\n",
       "request_datetime        0\n",
       "pickup_datetime         0\n",
       "dropoff_datetime        0\n",
       "PULocationID            0\n",
       "DOLocationID            0\n",
       "trip_miles              0\n",
       "base_passenger_fare     0\n",
       "tolls                   0\n",
       "congestion_surcharge    0\n",
       "airport_fee             0\n",
       "tips                    0\n",
       "driver_pay              0\n",
       "cbd_congestion_fee      0\n",
       "dtype: int64"
      ]
     },
     "execution_count": 11,
     "metadata": {},
     "output_type": "execute_result"
    }
   ],
   "source": [
    "df.isnull().sum()"
   ]
  },
  {
   "cell_type": "markdown",
   "id": "acea9b7c-f76c-43f4-934b-8179a03f1a8d",
   "metadata": {},
   "source": [
    "#### Checking duplicates"
   ]
  },
  {
   "cell_type": "code",
   "execution_count": 13,
   "id": "599a5e19-1f0d-4c30-9053-9525e238defe",
   "metadata": {},
   "outputs": [
    {
     "data": {
      "text/plain": [
       "0"
      ]
     },
     "execution_count": 13,
     "metadata": {},
     "output_type": "execute_result"
    }
   ],
   "source": [
    "df.duplicated().sum()"
   ]
  },
  {
   "cell_type": "markdown",
   "id": "c88157e2-d8e9-470c-8f6a-fde26407cfe1",
   "metadata": {},
   "source": [
    "#### Creating total_congestion column"
   ]
  },
  {
   "cell_type": "code",
   "execution_count": 164,
   "id": "f494c2a0-48fd-408c-a12e-099883d98e6b",
   "metadata": {},
   "outputs": [],
   "source": [
    "df[\"total_congestion\"] = df[\"congestion_surcharge\"] + df[\"cbd_congestion_fee\"]"
   ]
  },
  {
   "cell_type": "code",
   "execution_count": 166,
   "id": "55803414-5763-4986-9f02-65dbc9e6af4a",
   "metadata": {},
   "outputs": [
    {
     "data": {
      "text/plain": [
       "(20536879, 13)"
      ]
     },
     "execution_count": 166,
     "metadata": {},
     "output_type": "execute_result"
    }
   ],
   "source": [
    "columns_to_drop = ['congestion_surcharge','cbd_congestion_fee']\n",
    "\n",
    "df = df.drop(columns=columns_to_drop)\n",
    "df.shape"
   ]
  },
  {
   "cell_type": "markdown",
   "id": "636256e4-5e26-4b9c-9113-d8a8d742ef01",
   "metadata": {},
   "source": [
    "I have created this column:\n",
    "\n",
    "To identify peak congestion patterns or areas with heavy traffic\n",
    "\n",
    "To identify how traffic-related surcharges impact overall fare and trip efficiency."
   ]
  },
  {
   "cell_type": "markdown",
   "id": "5fa26619-0d7b-4b75-ab18-780b0f687ad2",
   "metadata": {},
   "source": [
    "#### Creating service_provider"
   ]
  },
  {
   "cell_type": "code",
   "execution_count": 168,
   "id": "7446645e-d12a-47ce-b0de-a0b1f8d17029",
   "metadata": {},
   "outputs": [
    {
     "data": {
      "text/plain": [
       "hvfhs_license_num\n",
       "HV0003   0.71\n",
       "HV0005   0.29\n",
       "Name: proportion, dtype: float64"
      ]
     },
     "execution_count": 168,
     "metadata": {},
     "output_type": "execute_result"
    }
   ],
   "source": [
    "df[\"hvfhs_license_num\"].value_counts(normalize=True)"
   ]
  },
  {
   "cell_type": "markdown",
   "id": "32fa1179-c0dc-496a-8a6f-affc2fffc9a0",
   "metadata": {},
   "source": [
    "As per Data dictionary • HV0002: Juno • HV0003: Uber • HV0004: Via • HV0005: Lyft\n",
    "\n",
    "Replacing the license codes (HV0003, HV0005) with the company names (Uber, Lyft) for better readability"
   ]
  },
  {
   "cell_type": "code",
   "execution_count": 170,
   "id": "3386d541-5787-4678-b75d-2a71aee60226",
   "metadata": {},
   "outputs": [],
   "source": [
    "df[\"hvfhs_license_num\"] = df[\"hvfhs_license_num\"].replace({\n",
    "    \"HV0003\": \"Uber\",\n",
    "    \"HV0005\": \"Lyft\"})"
   ]
  },
  {
   "cell_type": "code",
   "execution_count": 172,
   "id": "7091c873-e39e-4737-adf1-b6a3ecd16a81",
   "metadata": {},
   "outputs": [
    {
     "data": {
      "text/plain": [
       "(20536879, 13)"
      ]
     },
     "execution_count": 172,
     "metadata": {},
     "output_type": "execute_result"
    }
   ],
   "source": [
    "df = df.rename(columns={\"hvfhs_license_num\": \"service_provider\"})\n",
    "df.shape"
   ]
  },
  {
   "cell_type": "markdown",
   "id": "3e606e91-031b-48c6-86ba-04e7bdce2e9d",
   "metadata": {},
   "source": [
    "#### Creating trip_time in minutes column"
   ]
  },
  {
   "cell_type": "code",
   "execution_count": 174,
   "id": "46bf0062-3736-4582-bf53-d6c4c41665c2",
   "metadata": {},
   "outputs": [
    {
     "data": {
      "text/plain": [
       "(20536879, 14)"
      ]
     },
     "execution_count": 174,
     "metadata": {},
     "output_type": "execute_result"
    }
   ],
   "source": [
    "df['trip_time'] = (df['dropoff_datetime'] - df['pickup_datetime']).dt.total_seconds() / 60\n",
    "df.shape"
   ]
  },
  {
   "cell_type": "markdown",
   "id": "2df665f2-2e07-4ecb-baf2-6ba3253caec5",
   "metadata": {},
   "source": [
    "<h2 align=\"center\" style=\"color:blue\"</h2><h2 align=\"center\" style=\"color:blue\">Numerical columns </h2>"
   ]
  },
  {
   "cell_type": "code",
   "execution_count": 176,
   "id": "f5435d0d-013f-41b4-85c1-c35e44a77fdc",
   "metadata": {},
   "outputs": [],
   "source": [
    "pd.set_option('display.float_format', '{:.2f}'.format)"
   ]
  },
  {
   "cell_type": "code",
   "execution_count": 29,
   "id": "689468b0-57a8-4894-a3ba-85096a5670bb",
   "metadata": {
    "scrolled": true
   },
   "outputs": [
    {
     "data": {
      "text/html": [
       "<div>\n",
       "<style scoped>\n",
       "    .dataframe tbody tr th:only-of-type {\n",
       "        vertical-align: middle;\n",
       "    }\n",
       "\n",
       "    .dataframe tbody tr th {\n",
       "        vertical-align: top;\n",
       "    }\n",
       "\n",
       "    .dataframe thead th {\n",
       "        text-align: right;\n",
       "    }\n",
       "</style>\n",
       "<table border=\"1\" class=\"dataframe\">\n",
       "  <thead>\n",
       "    <tr style=\"text-align: right;\">\n",
       "      <th></th>\n",
       "      <th>trip_miles</th>\n",
       "      <th>base_passenger_fare</th>\n",
       "      <th>trip_time</th>\n",
       "      <th>tolls</th>\n",
       "      <th>total_congestion</th>\n",
       "      <th>airport_fee</th>\n",
       "      <th>tips</th>\n",
       "      <th>driver_pay</th>\n",
       "    </tr>\n",
       "  </thead>\n",
       "  <tbody>\n",
       "    <tr>\n",
       "      <th>count</th>\n",
       "      <td>20536879.00</td>\n",
       "      <td>20536879.00</td>\n",
       "      <td>20536879.00</td>\n",
       "      <td>20536879.00</td>\n",
       "      <td>20536879.00</td>\n",
       "      <td>20536879.00</td>\n",
       "      <td>20536879.00</td>\n",
       "      <td>20536879.00</td>\n",
       "    </tr>\n",
       "    <tr>\n",
       "      <th>mean</th>\n",
       "      <td>5.03</td>\n",
       "      <td>27.61</td>\n",
       "      <td>19.23</td>\n",
       "      <td>1.11</td>\n",
       "      <td>1.50</td>\n",
       "      <td>0.21</td>\n",
       "      <td>1.11</td>\n",
       "      <td>20.38</td>\n",
       "    </tr>\n",
       "    <tr>\n",
       "      <th>std</th>\n",
       "      <td>5.89</td>\n",
       "      <td>23.62</td>\n",
       "      <td>13.60</td>\n",
       "      <td>3.66</td>\n",
       "      <td>1.96</td>\n",
       "      <td>0.70</td>\n",
       "      <td>3.41</td>\n",
       "      <td>17.61</td>\n",
       "    </tr>\n",
       "    <tr>\n",
       "      <th>min</th>\n",
       "      <td>0.00</td>\n",
       "      <td>-32.90</td>\n",
       "      <td>0.00</td>\n",
       "      <td>0.00</td>\n",
       "      <td>0.00</td>\n",
       "      <td>0.00</td>\n",
       "      <td>0.00</td>\n",
       "      <td>-25.67</td>\n",
       "    </tr>\n",
       "    <tr>\n",
       "      <th>25%</th>\n",
       "      <td>1.52</td>\n",
       "      <td>13.40</td>\n",
       "      <td>9.68</td>\n",
       "      <td>0.00</td>\n",
       "      <td>0.00</td>\n",
       "      <td>0.00</td>\n",
       "      <td>0.00</td>\n",
       "      <td>9.00</td>\n",
       "    </tr>\n",
       "    <tr>\n",
       "      <th>50%</th>\n",
       "      <td>2.95</td>\n",
       "      <td>20.61</td>\n",
       "      <td>15.72</td>\n",
       "      <td>0.00</td>\n",
       "      <td>0.00</td>\n",
       "      <td>0.00</td>\n",
       "      <td>0.00</td>\n",
       "      <td>15.20</td>\n",
       "    </tr>\n",
       "    <tr>\n",
       "      <th>75%</th>\n",
       "      <td>6.29</td>\n",
       "      <td>33.18</td>\n",
       "      <td>24.82</td>\n",
       "      <td>0.00</td>\n",
       "      <td>4.25</td>\n",
       "      <td>0.00</td>\n",
       "      <td>0.00</td>\n",
       "      <td>25.70</td>\n",
       "    </tr>\n",
       "    <tr>\n",
       "      <th>max</th>\n",
       "      <td>403.24</td>\n",
       "      <td>1350.24</td>\n",
       "      <td>583.17</td>\n",
       "      <td>169.13</td>\n",
       "      <td>8.50</td>\n",
       "      <td>7.25</td>\n",
       "      <td>208.97</td>\n",
       "      <td>1099.60</td>\n",
       "    </tr>\n",
       "  </tbody>\n",
       "</table>\n",
       "</div>"
      ],
      "text/plain": [
       "       trip_miles  base_passenger_fare   trip_time       tolls  \\\n",
       "count 20536879.00          20536879.00 20536879.00 20536879.00   \n",
       "mean         5.03                27.61       19.23        1.11   \n",
       "std          5.89                23.62       13.60        3.66   \n",
       "min          0.00               -32.90        0.00        0.00   \n",
       "25%          1.52                13.40        9.68        0.00   \n",
       "50%          2.95                20.61       15.72        0.00   \n",
       "75%          6.29                33.18       24.82        0.00   \n",
       "max        403.24              1350.24      583.17      169.13   \n",
       "\n",
       "       total_congestion  airport_fee        tips  driver_pay  \n",
       "count       20536879.00  20536879.00 20536879.00 20536879.00  \n",
       "mean               1.50         0.21        1.11       20.38  \n",
       "std                1.96         0.70        3.41       17.61  \n",
       "min                0.00         0.00        0.00      -25.67  \n",
       "25%                0.00         0.00        0.00        9.00  \n",
       "50%                0.00         0.00        0.00       15.20  \n",
       "75%                4.25         0.00        0.00       25.70  \n",
       "max                8.50         7.25      208.97     1099.60  "
      ]
     },
     "execution_count": 29,
     "metadata": {},
     "output_type": "execute_result"
    }
   ],
   "source": [
    "df[[\"trip_miles\",\"base_passenger_fare\",\"trip_time\",\"tolls\",\"total_congestion\",\"airport_fee\",\"tips\",\"driver_pay\"]].describe()"
   ]
  },
  {
   "cell_type": "markdown",
   "id": "008c6580-89bc-4bb6-b8c5-01e8a4c785a0",
   "metadata": {},
   "source": [
    "<h1 align=\"center\" style=\"color:blue\"</h2><h2 align=\"center\" style=\"color:blue\">Univariate Analysis of Key attributes </h1>"
   ]
  },
  {
   "cell_type": "markdown",
   "id": "316c566c-738d-4bfa-a41f-8af1e9cda656",
   "metadata": {},
   "source": [
    "<h2 align=\"center\" style=\"color:blue\"</h2><h2 align=\"center\" style=\"color:blue\">Base Passenger Fare column </h2>"
   ]
  },
  {
   "cell_type": "code",
   "execution_count": 31,
   "id": "4f9c157b-778b-410e-9bd5-cf09d8631c40",
   "metadata": {},
   "outputs": [
    {
     "data": {
      "text/plain": [
       "(382, 14)"
      ]
     },
     "execution_count": 31,
     "metadata": {},
     "output_type": "execute_result"
    }
   ],
   "source": [
    "df[df['base_passenger_fare']<0].shape"
   ]
  },
  {
   "cell_type": "code",
   "execution_count": 178,
   "id": "107baca6-2428-41d9-8152-39df7962f396",
   "metadata": {},
   "outputs": [],
   "source": [
    "df = df[df['base_passenger_fare']>0]"
   ]
  },
  {
   "cell_type": "code",
   "execution_count": 35,
   "id": "9b9bf42b-b980-4665-ad87-ebf663b6e2df",
   "metadata": {},
   "outputs": [
    {
     "data": {
      "text/plain": [
       "120.35"
      ]
     },
     "execution_count": 35,
     "metadata": {},
     "output_type": "execute_result"
    }
   ],
   "source": [
    "df[\"base_passenger_fare\"].quantile(0.99)   # percentile-based outlier trimming."
   ]
  },
  {
   "cell_type": "code",
   "execution_count": 37,
   "id": "ff4aaa38-82a3-4c2f-b5cc-dcd8a6d5b047",
   "metadata": {},
   "outputs": [
    {
     "data": {
      "text/plain": [
       "(206718, 14)"
      ]
     },
     "execution_count": 37,
     "metadata": {},
     "output_type": "execute_result"
    }
   ],
   "source": [
    "df[df['base_passenger_fare']>120].shape "
   ]
  },
  {
   "cell_type": "code",
   "execution_count": 39,
   "id": "9bc17a6f-1e99-4b47-b37f-b0310bde8b61",
   "metadata": {},
   "outputs": [
    {
     "data": {
      "text/plain": [
       "1.0097266751101186"
      ]
     },
     "execution_count": 39,
     "metadata": {},
     "output_type": "execute_result"
    }
   ],
   "source": [
    "(206718/20472669)*100"
   ]
  },
  {
   "cell_type": "code",
   "execution_count": 180,
   "id": "4482d121-64f1-4664-bd65-d2b2668af399",
   "metadata": {},
   "outputs": [],
   "source": [
    "df = df[df['base_passenger_fare']<120]"
   ]
  },
  {
   "cell_type": "code",
   "execution_count": 43,
   "id": "ff41e99e-fed7-4452-b348-30dbe5234a90",
   "metadata": {},
   "outputs": [
    {
     "data": {
      "image/png": "[encoded data removed]",
      "text/plain": [
       "<Figure size 640x480 with 1 Axes>"
      ]
     },
     "metadata": {},
     "output_type": "display_data"
    }
   ],
   "source": [
    "df['base_passenger_fare'].plot.box()\n",
    "plt.title('Box Plot of base_passenger_fare')\n",
    "plt.ylabel('fare amount')\n",
    "plt.show()"
   ]
  },
  {
   "cell_type": "markdown",
   "id": "c5bac49b-241f-4ebf-8acf-8f5d8cde73f0",
   "metadata": {},
   "source": [
    "To ensure a stable analysis of base_passenger_fare while minimizing distortion from extreme outliers, \n",
    "I capped the data at the 99th percentile. This approach retains 99% of real-world trip fares while excluding unusually high"
   ]
  },
  {
   "cell_type": "code",
   "execution_count": 45,
   "id": "c0727822-ca44-47bd-af26-730994d97b7d",
   "metadata": {
    "scrolled": true
   },
   "outputs": [
    {
     "data": {
      "text/plain": [
       "count   20265893.00\n",
       "mean          26.34\n",
       "std           18.82\n",
       "min            0.01\n",
       "25%           13.40\n",
       "50%           20.57\n",
       "75%           32.61\n",
       "max          119.99\n",
       "Name: base_passenger_fare, dtype: float64"
      ]
     },
     "execution_count": 45,
     "metadata": {},
     "output_type": "execute_result"
    }
   ],
   "source": [
    "df[\"base_passenger_fare\"].describe()"
   ]
  },
  {
   "cell_type": "code",
   "execution_count": 47,
   "id": "04167ab8-52e0-43d9-a6a2-cb9c66e82ef7",
   "metadata": {},
   "outputs": [
    {
     "data": {
      "text/plain": [
       "(421, 14)"
      ]
     },
     "execution_count": 47,
     "metadata": {},
     "output_type": "execute_result"
    }
   ],
   "source": [
    "df[df[\"base_passenger_fare\"]<1].shape"
   ]
  },
  {
   "cell_type": "code",
   "execution_count": 49,
   "id": "bdaf88d4-dbd9-4599-a624-d419598c7785",
   "metadata": {},
   "outputs": [
    {
     "data": {
      "text/plain": [
       "10.045209817893902"
      ]
     },
     "execution_count": 49,
     "metadata": {},
     "output_type": "execute_result"
    }
   ],
   "source": [
    "df[df[\"base_passenger_fare\"]<1][\"trip_time\"].mean()           #10 mins"
   ]
  },
  {
   "cell_type": "code",
   "execution_count": 51,
   "id": "75524073-6ad4-4e37-af78-88cd01aa25ee",
   "metadata": {},
   "outputs": [
    {
     "data": {
      "text/plain": [
       "1.7442280285035627"
      ]
     },
     "execution_count": 51,
     "metadata": {},
     "output_type": "execute_result"
    }
   ],
   "source": [
    "df[df[\"base_passenger_fare\"]<1][\"trip_miles\"].mean()             # 2.8 km"
   ]
  },
  {
   "cell_type": "code",
   "execution_count": 182,
   "id": "d501be3f-2c9d-46ba-9fe6-9a13ff4e4bb8",
   "metadata": {},
   "outputs": [],
   "source": [
    "df = df[df[\"base_passenger_fare\"]>1]"
   ]
  },
  {
   "cell_type": "code",
   "execution_count": 54,
   "id": "b26cae35-6d3e-4f97-82ba-910c5199cd97",
   "metadata": {},
   "outputs": [
    {
     "data": {
      "text/plain": [
       "count   20265468.00\n",
       "mean          26.34\n",
       "std           18.82\n",
       "min            1.01\n",
       "25%           13.40\n",
       "50%           20.57\n",
       "75%           32.61\n",
       "max          119.99\n",
       "Name: base_passenger_fare, dtype: float64"
      ]
     },
     "execution_count": 54,
     "metadata": {},
     "output_type": "execute_result"
    }
   ],
   "source": [
    "df[\"base_passenger_fare\"].describe()"
   ]
  },
  {
   "cell_type": "code",
   "execution_count": 368,
   "id": "c1f5a476-d333-4ad8-a201-8bae491691e2",
   "metadata": {},
   "outputs": [
    {
     "data": {
      "image/png": "[encoded data removed]",
      "text/plain": [
       "<Figure size 800x500 with 1 Axes>"
      ]
     },
     "metadata": {},
     "output_type": "display_data"
    }
   ],
   "source": [
    "plt.figure(figsize=(8, 5))\n",
    "sns.histplot(df[\"base_passenger_fare\"], bins=50, kde=True, color='green')\n",
    "plt.title(\"Distribution of Base Passenger Fare\")\n",
    "plt.xlabel(\"Base Passenger Fare ($)\")\n",
    "plt.ylabel(\"Count\")\n",
    "plt.show()"
   ]
  },
  {
   "cell_type": "markdown",
   "id": "54db7ed3-462f-47a3-a211-7626df1b493d",
   "metadata": {},
   "source": [
    "<h2 align=\"center\" style=\"color:blue\"</h2><h2 align=\"center\" style=\"color:blue\">Exploring Trip Distance </h2>"
   ]
  },
  {
   "cell_type": "code",
   "execution_count": 57,
   "id": "b66c27e1-3fd0-4eb2-9f32-64f55ae733ff",
   "metadata": {},
   "outputs": [
    {
     "data": {
      "text/plain": [
       "(2179, 14)"
      ]
     },
     "execution_count": 57,
     "metadata": {},
     "output_type": "execute_result"
    }
   ],
   "source": [
    "df[df['trip_miles']==0].shape"
   ]
  },
  {
   "cell_type": "code",
   "execution_count": 59,
   "id": "0b742c2e-a0f8-42ea-b186-9355599b2355",
   "metadata": {},
   "outputs": [],
   "source": [
    "df = df[df['trip_miles']>0]"
   ]
  },
  {
   "cell_type": "code",
   "execution_count": 61,
   "id": "3a32bdd9-a779-4328-aad9-8563ff0c445b",
   "metadata": {},
   "outputs": [
    {
     "data": {
      "text/plain": [
       "count   20263289.00\n",
       "mean           4.75\n",
       "std            4.93\n",
       "min            0.00\n",
       "25%            1.51\n",
       "50%            2.91\n",
       "75%            6.12\n",
       "max           92.12\n",
       "Name: trip_miles, dtype: float64"
      ]
     },
     "execution_count": 61,
     "metadata": {},
     "output_type": "execute_result"
    }
   ],
   "source": [
    "df[\"trip_miles\"].describe()"
   ]
  },
  {
   "cell_type": "code",
   "execution_count": 63,
   "id": "f7a55fc2-db93-4791-8d3d-7dd1b51016fe",
   "metadata": {},
   "outputs": [
    {
     "data": {
      "text/plain": [
       "26.94"
      ]
     },
     "execution_count": 63,
     "metadata": {},
     "output_type": "execute_result"
    }
   ],
   "source": [
    "df[\"trip_miles\"].quantile(0.995) "
   ]
  },
  {
   "cell_type": "code",
   "execution_count": 65,
   "id": "44e80f7a-2203-4503-8c2f-05194cdcc498",
   "metadata": {},
   "outputs": [
    {
     "data": {
      "text/plain": [
       "(101203, 14)"
      ]
     },
     "execution_count": 65,
     "metadata": {},
     "output_type": "execute_result"
    }
   ],
   "source": [
    "df[df['trip_miles']>26.94].shape"
   ]
  },
  {
   "cell_type": "code",
   "execution_count": 67,
   "id": "346ca1ee-6116-4fab-b977-d5f29c44c8e4",
   "metadata": {},
   "outputs": [
    {
     "data": {
      "text/plain": [
       "0.49942967019767454"
      ]
     },
     "execution_count": 67,
     "metadata": {},
     "output_type": "execute_result"
    }
   ],
   "source": [
    "(101203/20263714)*100  # it is 0.5%"
   ]
  },
  {
   "cell_type": "code",
   "execution_count": 69,
   "id": "b6105f47-f4eb-456f-a4d1-d57d86a824ef",
   "metadata": {},
   "outputs": [],
   "source": [
    "df = df[df['trip_miles']<26.94]"
   ]
  },
  {
   "cell_type": "code",
   "execution_count": 71,
   "id": "edbc80b9-326b-4dce-9386-ae9b61325b23",
   "metadata": {},
   "outputs": [
    {
     "data": {
      "text/plain": [
       "(2915, 14)"
      ]
     },
     "execution_count": 71,
     "metadata": {},
     "output_type": "execute_result"
    }
   ],
   "source": [
    "df[df['trip_miles']<0.06].shape"
   ]
  },
  {
   "cell_type": "code",
   "execution_count": 73,
   "id": "f7654d4e-0ba7-4332-bb15-d843c5348cbd",
   "metadata": {},
   "outputs": [],
   "source": [
    "df = df[df['trip_miles']>0.06]"
   ]
  },
  {
   "cell_type": "code",
   "execution_count": 370,
   "id": "39a1184f-cc09-4b95-b2be-715454a6661a",
   "metadata": {},
   "outputs": [
    {
     "data": {
      "image/png": "[encoded data removed]",
      "text/plain": [
       "<Figure size 800x500 with 1 Axes>"
      ]
     },
     "metadata": {},
     "output_type": "display_data"
    }
   ],
   "source": [
    "plt.figure(figsize=(8, 5))\n",
    "sns.histplot(df[\"trip_miles\"], bins=50, kde=True, color='cornflowerblue')\n",
    "plt.title(\"Distribution of Trip Miles\")\n",
    "plt.xlabel(\"Trip Miles\")\n",
    "plt.ylabel(\"Count\")\n",
    "plt.show()"
   ]
  },
  {
   "cell_type": "markdown",
   "id": "14ac2bec-4ae6-4eb8-b68a-9476b6f5eb1a",
   "metadata": {},
   "source": [
    "Trips shorter than 0.06 miles approx 96 meters (about 2,916 records, or 0.014% of the data) were removed "
   ]
  },
  {
   "cell_type": "markdown",
   "id": "69b3aff4-4215-4933-9376-5c7937a80001",
   "metadata": {},
   "source": [
    "<h2 align=\"center\" style=\"color:blue\"</h2><h2 align=\"center\" style=\"color:blue\">Exploring Trip Duration </h2>"
   ]
  },
  {
   "cell_type": "code",
   "execution_count": 75,
   "id": "983ead19-ad45-445a-a5d2-92d4838d4286",
   "metadata": {},
   "outputs": [
    {
     "data": {
      "text/plain": [
       "count   20158751.00\n",
       "mean          18.59\n",
       "std           12.37\n",
       "min            0.12\n",
       "25%            9.60\n",
       "50%           15.52\n",
       "75%           24.27\n",
       "max          396.77\n",
       "Name: trip_time, dtype: float64"
      ]
     },
     "execution_count": 75,
     "metadata": {},
     "output_type": "execute_result"
    }
   ],
   "source": [
    "df[\"trip_time\"].describe()"
   ]
  },
  {
   "cell_type": "code",
   "execution_count": 77,
   "id": "9fa6b221-b97d-4515-b8d5-7d3df3b77a2c",
   "metadata": {},
   "outputs": [
    {
     "data": {
      "image/png": "[encoded data removed]",
      "text/plain": [
       "<Figure size 640x480 with 1 Axes>"
      ]
     },
     "metadata": {},
     "output_type": "display_data"
    }
   ],
   "source": [
    "df['trip_time'].plot.box()\n",
    "plt.title('trip_time')\n",
    "plt.ylabel('seconds')\n",
    "plt.show()"
   ]
  },
  {
   "cell_type": "code",
   "execution_count": 85,
   "id": "ac632cab-ef8c-40b7-abf4-dd69ed514814",
   "metadata": {},
   "outputs": [
    {
     "data": {
      "text/plain": [
       "(17, 14)"
      ]
     },
     "execution_count": 85,
     "metadata": {},
     "output_type": "execute_result"
    }
   ],
   "source": [
    "df[df[\"trip_time\"]>170].shape"
   ]
  },
  {
   "cell_type": "code",
   "execution_count": 87,
   "id": "5997da2b-283a-4d83-8080-fa1cedcc9c7d",
   "metadata": {},
   "outputs": [],
   "source": [
    "df = df[df[\"trip_time\"]<170]"
   ]
  },
  {
   "cell_type": "markdown",
   "id": "cbb3e7ba-9336-4301-8c4f-ed51df1a9c0b",
   "metadata": {},
   "source": [
    "Trips with durations exceeding 170 mins (~2.83 hours) were removed to eliminate outliers and improve the reliability of the analysis."
   ]
  },
  {
   "cell_type": "code",
   "execution_count": 89,
   "id": "3c5194dc-22c0-410d-b2b9-23545de946d6",
   "metadata": {},
   "outputs": [
    {
     "data": {
      "text/plain": [
       "(25739, 14)"
      ]
     },
     "execution_count": 89,
     "metadata": {},
     "output_type": "execute_result"
    }
   ],
   "source": [
    "df[df[\"trip_time\"]<2].shape"
   ]
  },
  {
   "cell_type": "code",
   "execution_count": 91,
   "id": "7afa7e26-57d7-41d6-83d8-60f7bcd3ac55",
   "metadata": {},
   "outputs": [
    {
     "data": {
      "text/plain": [
       "0.34178670500019426"
      ]
     },
     "execution_count": 91,
     "metadata": {},
     "output_type": "execute_result"
    }
   ],
   "source": [
    "df[df[\"trip_time\"]<2][\"trip_miles\"].mean()                 # 0.34178670500019426 approx half km"
   ]
  },
  {
   "cell_type": "code",
   "execution_count": 93,
   "id": "9ec1458e-b6e3-435c-95eb-a30eda6f2708",
   "metadata": {},
   "outputs": [
    {
     "data": {
      "text/plain": [
       "8.779148374062707"
      ]
     },
     "execution_count": 93,
     "metadata": {},
     "output_type": "execute_result"
    }
   ],
   "source": [
    "df[df[\"trip_time\"]<2][\"base_passenger_fare\"].mean()"
   ]
  },
  {
   "cell_type": "markdown",
   "id": "0a795052-d62e-40a0-a5cd-551feb69abbe",
   "metadata": {},
   "source": [
    "Trips with durations less than 2 minutes were excluded to remove very short or potentially erroneous trips, \n",
    "ensuring the analysis focuses on meaningful passenger journeys."
   ]
  },
  {
   "cell_type": "code",
   "execution_count": 95,
   "id": "0fcf0e3b-b5a6-4a84-837b-ed2c535143c4",
   "metadata": {},
   "outputs": [],
   "source": [
    "df = df[df[\"trip_time\"]>2]"
   ]
  },
  {
   "cell_type": "code",
   "execution_count": 96,
   "id": "48d67bf9-f03b-4d1a-9e94-85cb7f011571",
   "metadata": {},
   "outputs": [
    {
     "data": {
      "text/plain": [
       "count   20131921.00\n",
       "mean          18.61\n",
       "std           12.37\n",
       "min            2.02\n",
       "25%            9.62\n",
       "50%           15.53\n",
       "75%           24.28\n",
       "max          169.77\n",
       "Name: trip_time, dtype: float64"
      ]
     },
     "execution_count": 96,
     "metadata": {},
     "output_type": "execute_result"
    }
   ],
   "source": [
    "df[\"trip_time\"].describe()"
   ]
  },
  {
   "cell_type": "code",
   "execution_count": 99,
   "id": "41ced6aa-91d7-42c6-8c8a-66def241d2cd",
   "metadata": {},
   "outputs": [
    {
     "data": {
      "image/png": "[encoded data removed]",
      "text/plain": [
       "<Figure size 800x500 with 1 Axes>"
      ]
     },
     "metadata": {},
     "output_type": "display_data"
    }
   ],
   "source": [
    "plt.figure(figsize=(8, 5))\n",
    "sns.histplot(df[\"trip_time\"], bins=50, kde=True, color='darkorange')\n",
    "plt.title(\"Distribution of Trip Time\")\n",
    "plt.xlabel(\"Trip Time (seconds)\")\n",
    "plt.ylabel(\"Count\")\n",
    "plt.show()"
   ]
  },
  {
   "cell_type": "markdown",
   "id": "93562f5a-1730-4d59-aedc-9b817afb26d3",
   "metadata": {},
   "source": [
    "<h1 align=\"center\" style=\"color:blue\">Univariate Analysis of Secondary Attributes</h1>"
   ]
  },
  {
   "cell_type": "markdown",
   "id": "33dbc1f3-9680-49df-8a0e-a45b521fd69a",
   "metadata": {},
   "source": [
    "<h2 align=\"center\" style=\"color:blue\">Toll Trips</h2>"
   ]
  },
  {
   "cell_type": "code",
   "execution_count": 211,
   "id": "f5764711-2ea4-4376-be31-473e9757d375",
   "metadata": {},
   "outputs": [
    {
     "data": {
      "text/plain": [
       "3743"
      ]
     },
     "execution_count": 211,
     "metadata": {},
     "output_type": "execute_result"
    }
   ],
   "source": [
    "df['tolls'].nunique()"
   ]
  },
  {
   "cell_type": "code",
   "execution_count": 213,
   "id": "a72eef44-7d4f-43b5-a611-ba99191b3c0c",
   "metadata": {},
   "outputs": [
    {
     "data": {
      "text/plain": [
       "(2606079, 14)"
      ]
     },
     "execution_count": 213,
     "metadata": {},
     "output_type": "execute_result"
    }
   ],
   "source": [
    "df[df[\"tolls\"]>0].shape"
   ]
  },
  {
   "cell_type": "code",
   "execution_count": 215,
   "id": "944a2a51-1a83-4184-9080-59384102f403",
   "metadata": {},
   "outputs": [
    {
     "data": {
      "text/plain": [
       "12.927608256549702"
      ]
     },
     "execution_count": 215,
     "metadata": {},
     "output_type": "execute_result"
    }
   ],
   "source": [
    "(2606487/20162175)*100     # approx 13% of data"
   ]
  },
  {
   "cell_type": "code",
   "execution_count": 229,
   "id": "4a3e70e0-e34a-42f7-b0e8-100e066503d2",
   "metadata": {},
   "outputs": [
    {
     "data": {
      "text/plain": [
       "count   2606079.00\n",
       "mean          7.51\n",
       "std           5.90\n",
       "min           0.11\n",
       "25%           3.66\n",
       "50%           6.94\n",
       "75%           6.94\n",
       "max          59.40\n",
       "Name: tolls, dtype: float64"
      ]
     },
     "execution_count": 229,
     "metadata": {},
     "output_type": "execute_result"
    }
   ],
   "source": [
    "df[df['tolls']>0][\"tolls\"].describe()"
   ]
  },
  {
   "cell_type": "code",
   "execution_count": 231,
   "id": "b52b7e2a-7521-4a45-835e-c7defc5f9f91",
   "metadata": {},
   "outputs": [
    {
     "data": {
      "text/plain": [
       "(539869, 14)"
      ]
     },
     "execution_count": 231,
     "metadata": {},
     "output_type": "execute_result"
    }
   ],
   "source": [
    "df[df['tolls']>7].shape"
   ]
  },
  {
   "cell_type": "code",
   "execution_count": 237,
   "id": "3e9ad371-f908-4db9-abd3-0a3f2b2be32f",
   "metadata": {},
   "outputs": [
    {
     "data": {
      "image/png": "[encoded data removed]",
      "text/plain": [
       "<Figure size 640x480 with 1 Axes>"
      ]
     },
     "metadata": {},
     "output_type": "display_data"
    }
   ],
   "source": [
    "df[df['tolls']>7][\"tolls\"].plot.box()\n",
    "plt.title('tolls')\n",
    "plt.ylabel('$')\n",
    "plt.show()"
   ]
  },
  {
   "cell_type": "code",
   "execution_count": 241,
   "id": "538fb4b1-06ab-4435-b1b1-aa004d36c57c",
   "metadata": {},
   "outputs": [
    {
     "data": {
      "text/plain": [
       "(10, 14)"
      ]
     },
     "execution_count": 241,
     "metadata": {},
     "output_type": "execute_result"
    }
   ],
   "source": [
    "df[df['tolls']>55].shape"
   ]
  },
  {
   "cell_type": "markdown",
   "id": "2ad77522-11ec-4f69-a4f3-beb21dff943d",
   "metadata": {},
   "source": [
    "<h2 align=\"center\" style=\"color:blue\">Airport Trips</h2>"
   ]
  },
  {
   "cell_type": "code",
   "execution_count": 262,
   "id": "576f977d-0cfd-46fb-92dc-82ea66b0582a",
   "metadata": {},
   "outputs": [
    {
     "data": {
      "text/plain": [
       "8"
      ]
     },
     "execution_count": 262,
     "metadata": {},
     "output_type": "execute_result"
    }
   ],
   "source": [
    "df[\"airport_fee\"].nunique()"
   ]
  },
  {
   "cell_type": "code",
   "execution_count": 266,
   "id": "bfc7ea4a-0bce-4195-a10a-258a7e7e538a",
   "metadata": {},
   "outputs": [
    {
     "data": {
      "text/plain": [
       "(1573650, 21)"
      ]
     },
     "execution_count": 266,
     "metadata": {},
     "output_type": "execute_result"
    }
   ],
   "source": [
    "df[df[\"airport_fee\"]>0].shape  "
   ]
  },
  {
   "cell_type": "code",
   "execution_count": 268,
   "id": "a9e065f2-d487-4a82-93cc-c1b03891a664",
   "metadata": {},
   "outputs": [
    {
     "data": {
      "text/plain": [
       "7.804961518288578"
      ]
     },
     "execution_count": 268,
     "metadata": {},
     "output_type": "execute_result"
    }
   ],
   "source": [
    "(1573650/20162175)*100  # approx 7.8% of data"
   ]
  },
  {
   "cell_type": "code",
   "execution_count": 243,
   "id": "a58f9082-3cc1-4a4e-9dae-950cc66f0070",
   "metadata": {},
   "outputs": [
    {
     "data": {
      "text/plain": [
       "count   1573450.00\n",
       "mean          2.50\n",
       "std           0.21\n",
       "min           1.00\n",
       "25%           2.50\n",
       "50%           2.50\n",
       "75%           2.50\n",
       "max           5.00\n",
       "Name: airport_fee, dtype: float64"
      ]
     },
     "execution_count": 243,
     "metadata": {},
     "output_type": "execute_result"
    }
   ],
   "source": [
    "df[df['airport_fee']>0][\"airport_fee\"].describe()"
   ]
  },
  {
   "cell_type": "markdown",
   "id": "99ff3946-b298-4eca-84fe-a91928e05fde",
   "metadata": {},
   "source": [
    "<h2 align=\"center\" style=\"color:blue\">Exploring Tips</h2>"
   ]
  },
  {
   "cell_type": "code",
   "execution_count": 272,
   "id": "3fcc6f85-fc29-4c13-862b-7dde0f9b2115",
   "metadata": {},
   "outputs": [
    {
     "data": {
      "text/plain": [
       "3768"
      ]
     },
     "execution_count": 272,
     "metadata": {},
     "output_type": "execute_result"
    }
   ],
   "source": [
    "df[\"tips\"].nunique()"
   ]
  },
  {
   "cell_type": "code",
   "execution_count": 274,
   "id": "76152e88-a9f8-4b8e-bf2e-f9103d9781db",
   "metadata": {},
   "outputs": [
    {
     "data": {
      "text/plain": [
       "(3527471, 21)"
      ]
     },
     "execution_count": 274,
     "metadata": {},
     "output_type": "execute_result"
    }
   ],
   "source": [
    "df[df[\"tips\"]>0].shape  "
   ]
  },
  {
   "cell_type": "code",
   "execution_count": 276,
   "id": "48103e8d-cbed-4cbb-9043-55117f15e1a3",
   "metadata": {},
   "outputs": [
    {
     "data": {
      "text/plain": [
       "17.495488457966466"
      ]
     },
     "execution_count": 276,
     "metadata": {},
     "output_type": "execute_result"
    }
   ],
   "source": [
    "(3527471/20162175)*100   # approx 17.5% of data"
   ]
  },
  {
   "cell_type": "code",
   "execution_count": 245,
   "id": "1f85311f-2ba8-4c16-b1a0-6a342b60875d",
   "metadata": {},
   "outputs": [
    {
     "data": {
      "text/plain": [
       "count   3524078.00\n",
       "mean          5.82\n",
       "std           4.56\n",
       "min           0.01\n",
       "25%           3.00\n",
       "50%           4.72\n",
       "75%           7.24\n",
       "max         100.00\n",
       "Name: tips, dtype: float64"
      ]
     },
     "execution_count": 245,
     "metadata": {},
     "output_type": "execute_result"
    }
   ],
   "source": [
    "df[df['tips']>0][\"tips\"].describe()"
   ]
  },
  {
   "cell_type": "code",
   "execution_count": 251,
   "id": "ccf388ce-187a-42f3-867c-707d2a91264c",
   "metadata": {},
   "outputs": [
    {
     "data": {
      "image/png": "[encoded data removed]",
      "text/plain": [
       "<Figure size 640x480 with 1 Axes>"
      ]
     },
     "metadata": {},
     "output_type": "display_data"
    }
   ],
   "source": [
    "df[df['tips']>7.24][\"tips\"].plot.box()\n",
    "plt.title('tips')\n",
    "plt.ylabel('$')\n",
    "plt.show()"
   ]
  },
  {
   "cell_type": "code",
   "execution_count": 334,
   "id": "f76030b6-bddf-4456-8ddf-2a58de0e93da",
   "metadata": {},
   "outputs": [
    {
     "data": {
      "text/plain": [
       "(4418, 21)"
      ]
     },
     "execution_count": 334,
     "metadata": {},
     "output_type": "execute_result"
    }
   ],
   "source": [
    "df[df['tips'] > df['base_passenger_fare']].shape"
   ]
  },
  {
   "cell_type": "code",
   "execution_count": 346,
   "id": "a289b7a6-e279-4d20-8d35-3786ac367ea6",
   "metadata": {},
   "outputs": [
    {
     "data": {
      "text/plain": [
       "20.14931643277501"
      ]
     },
     "execution_count": 346,
     "metadata": {},
     "output_type": "execute_result"
    }
   ],
   "source": [
    "df[df['tips'] > df['base_passenger_fare']][\"tips\"].mean()"
   ]
  },
  {
   "cell_type": "markdown",
   "id": "3ac9dad0-48b4-4fc5-9527-9bf32f9e4dd6",
   "metadata": {},
   "source": [
    "While these tips are larger than the base fare, they’re not all extreme in amount. This is actually quite reasonable"
   ]
  },
  {
   "cell_type": "markdown",
   "id": "bc1d47f5-c194-4bd3-8466-f9b2896039dc",
   "metadata": {},
   "source": [
    "<h2 align=\"center\" style=\"color:blue\">Driver Pay</h2>"
   ]
  },
  {
   "cell_type": "code",
   "execution_count": 288,
   "id": "bfe79a7c-a1d9-4cd8-b78f-966ea79a0699",
   "metadata": {},
   "outputs": [
    {
     "data": {
      "text/plain": [
       "11820"
      ]
     },
     "execution_count": 288,
     "metadata": {},
     "output_type": "execute_result"
    }
   ],
   "source": [
    "df[\"driver_pay\"].nunique()"
   ]
  },
  {
   "cell_type": "code",
   "execution_count": 290,
   "id": "ff4d4fad-ed99-4b8f-a73e-908c5ea7c8de",
   "metadata": {},
   "outputs": [
    {
     "data": {
      "text/plain": [
       "count   20162175.00\n",
       "mean          19.18\n",
       "std           14.10\n",
       "min          -22.22\n",
       "25%            8.92\n",
       "50%           14.97\n",
       "75%           25.03\n",
       "max          174.92\n",
       "Name: driver_pay, dtype: float64"
      ]
     },
     "execution_count": 290,
     "metadata": {},
     "output_type": "execute_result"
    }
   ],
   "source": [
    "df[\"driver_pay\"].describe()"
   ]
  },
  {
   "cell_type": "code",
   "execution_count": 294,
   "id": "3307ef6c-ec4e-4962-bf46-b51e043de22e",
   "metadata": {},
   "outputs": [
    {
     "data": {
      "text/plain": [
       "(34, 21)"
      ]
     },
     "execution_count": 294,
     "metadata": {},
     "output_type": "execute_result"
    }
   ],
   "source": [
    "df[df['driver_pay'] < 0].shape"
   ]
  },
  {
   "cell_type": "code",
   "execution_count": 255,
   "id": "d7dd2d2b-8763-438c-9f75-44a519b0c71e",
   "metadata": {},
   "outputs": [],
   "source": [
    "df = df[df['driver_pay'] > 0]"
   ]
  },
  {
   "cell_type": "code",
   "execution_count": 257,
   "id": "2b76f2f7-eaf1-4d16-a7b5-59ce5361622e",
   "metadata": {},
   "outputs": [
    {
     "data": {
      "text/plain": [
       "count   20129201.00\n",
       "mean          19.20\n",
       "std           14.10\n",
       "min            0.01\n",
       "25%            8.95\n",
       "50%           15.00\n",
       "75%           25.06\n",
       "max          174.92\n",
       "Name: driver_pay, dtype: float64"
      ]
     },
     "execution_count": 257,
     "metadata": {},
     "output_type": "execute_result"
    }
   ],
   "source": [
    "df[\"driver_pay\"].describe()"
   ]
  },
  {
   "cell_type": "code",
   "execution_count": 259,
   "id": "e4343f2d-d355-45a0-ba14-cd37da2dd3e6",
   "metadata": {},
   "outputs": [
    {
     "data": {
      "image/png": "[encoded data removed]",
      "text/plain": [
       "<Figure size 640x480 with 1 Axes>"
      ]
     },
     "metadata": {},
     "output_type": "display_data"
    }
   ],
   "source": [
    "df[df['driver_pay']>25.06][\"driver_pay\"].plot.box()\n",
    "plt.title('driver_pay')\n",
    "plt.ylabel('$')\n",
    "plt.show()"
   ]
  },
  {
   "cell_type": "markdown",
   "id": "857f3e7d-09a7-4637-b486-2b1ae74f13e9",
   "metadata": {},
   "source": [
    "<h2 align=\"center\" style=\"color:blue\">Congestion Column</h2>"
   ]
  },
  {
   "cell_type": "code",
   "execution_count": 209,
   "id": "25b35e39-2f07-4b55-843c-70534569014c",
   "metadata": {},
   "outputs": [
    {
     "data": {
      "text/plain": [
       "count   20131918.00\n",
       "mean           1.50\n",
       "std            1.96\n",
       "min            0.00\n",
       "25%            0.00\n",
       "50%            0.00\n",
       "75%            4.25\n",
       "max            4.25\n",
       "Name: total_congestion, dtype: float64"
      ]
     },
     "execution_count": 209,
     "metadata": {},
     "output_type": "execute_result"
    }
   ],
   "source": [
    "df[\"total_congestion\"].describe()"
   ]
  },
  {
   "cell_type": "code",
   "execution_count": 415,
   "id": "d9f1ba40-9379-44f5-9a07-74ec0fafecf2",
   "metadata": {},
   "outputs": [
    {
     "data": {
      "text/plain": [
       "(7922071, 15)"
      ]
     },
     "execution_count": 415,
     "metadata": {},
     "output_type": "execute_result"
    }
   ],
   "source": [
    "df[df[\"total_congestion\"]>0].shape"
   ]
  },
  {
   "cell_type": "code",
   "execution_count": 261,
   "id": "d76fb878-0599-4018-85e1-608e3779cff1",
   "metadata": {},
   "outputs": [
    {
     "data": {
      "text/plain": [
       "39.35080105134543"
      ]
     },
     "execution_count": 261,
     "metadata": {},
     "output_type": "execute_result"
    }
   ],
   "source": [
    "(7922071/20131918)*100"
   ]
  },
  {
   "cell_type": "code",
   "execution_count": 263,
   "id": "9451fd18-c4bf-4fbc-8bdc-565027e70cb5",
   "metadata": {},
   "outputs": [
    {
     "data": {
      "text/plain": [
       "count   7738098.00\n",
       "mean          3.91\n",
       "std           0.78\n",
       "min           0.75\n",
       "25%           4.25\n",
       "50%           4.25\n",
       "75%           4.25\n",
       "max           4.25\n",
       "Name: total_congestion, dtype: float64"
      ]
     },
     "execution_count": 263,
     "metadata": {},
     "output_type": "execute_result"
    }
   ],
   "source": [
    "df[df[\"total_congestion\"]>0][\"total_congestion\"].describe()"
   ]
  },
  {
   "cell_type": "markdown",
   "id": "30833b94-dfb6-4d46-81e7-070d97d5df9e",
   "metadata": {},
   "source": [
    "<h2 align=\"center\" style=\"color:blue\">Correcting Datetime Columns</h2>"
   ]
  },
  {
   "cell_type": "code",
   "execution_count": 111,
   "id": "ba6535bc-a457-4dc0-b189-484bd004b290",
   "metadata": {},
   "outputs": [
    {
     "data": {
      "text/html": [
       "<div>\n",
       "<style scoped>\n",
       "    .dataframe tbody tr th:only-of-type {\n",
       "        vertical-align: middle;\n",
       "    }\n",
       "\n",
       "    .dataframe tbody tr th {\n",
       "        vertical-align: top;\n",
       "    }\n",
       "\n",
       "    .dataframe thead th {\n",
       "        text-align: right;\n",
       "    }\n",
       "</style>\n",
       "<table border=\"1\" class=\"dataframe\">\n",
       "  <thead>\n",
       "    <tr style=\"text-align: right;\">\n",
       "      <th></th>\n",
       "      <th>request_datetime</th>\n",
       "      <th>pickup_datetime</th>\n",
       "      <th>dropoff_datetime</th>\n",
       "    </tr>\n",
       "  </thead>\n",
       "  <tbody>\n",
       "    <tr>\n",
       "      <th>count</th>\n",
       "      <td>20131921</td>\n",
       "      <td>20131921</td>\n",
       "      <td>20131921</td>\n",
       "    </tr>\n",
       "    <tr>\n",
       "      <th>mean</th>\n",
       "      <td>2025-03-16 07:50:48.514579</td>\n",
       "      <td>2025-03-16 07:55:29.603490</td>\n",
       "      <td>2025-03-16 08:14:06.289814</td>\n",
       "    </tr>\n",
       "    <tr>\n",
       "      <th>min</th>\n",
       "      <td>2025-02-28 22:07:00</td>\n",
       "      <td>2025-03-01 00:00:00</td>\n",
       "      <td>2025-03-01 00:02:19</td>\n",
       "    </tr>\n",
       "    <tr>\n",
       "      <th>25%</th>\n",
       "      <td>2025-03-08 12:57:05</td>\n",
       "      <td>2025-03-08 13:00:55</td>\n",
       "      <td>2025-03-08 13:18:41</td>\n",
       "    </tr>\n",
       "    <tr>\n",
       "      <th>50%</th>\n",
       "      <td>2025-03-16 00:01:49</td>\n",
       "      <td>2025-03-16 00:07:51</td>\n",
       "      <td>2025-03-16 00:26:26</td>\n",
       "    </tr>\n",
       "    <tr>\n",
       "      <th>75%</th>\n",
       "      <td>2025-03-23 20:14:55</td>\n",
       "      <td>2025-03-23 20:21:22</td>\n",
       "      <td>2025-03-23 20:38:29</td>\n",
       "    </tr>\n",
       "    <tr>\n",
       "      <th>max</th>\n",
       "      <td>2025-03-31 23:58:39</td>\n",
       "      <td>2025-03-31 23:59:58</td>\n",
       "      <td>2025-04-01 00:59:33</td>\n",
       "    </tr>\n",
       "  </tbody>\n",
       "</table>\n",
       "</div>"
      ],
      "text/plain": [
       "                 request_datetime             pickup_datetime  \\\n",
       "count                    20131921                    20131921   \n",
       "mean   2025-03-16 07:50:48.514579  2025-03-16 07:55:29.603490   \n",
       "min           2025-02-28 22:07:00         2025-03-01 00:00:00   \n",
       "25%           2025-03-08 12:57:05         2025-03-08 13:00:55   \n",
       "50%           2025-03-16 00:01:49         2025-03-16 00:07:51   \n",
       "75%           2025-03-23 20:14:55         2025-03-23 20:21:22   \n",
       "max           2025-03-31 23:58:39         2025-03-31 23:59:58   \n",
       "\n",
       "                 dropoff_datetime  \n",
       "count                    20131921  \n",
       "mean   2025-03-16 08:14:06.289814  \n",
       "min           2025-03-01 00:02:19  \n",
       "25%           2025-03-08 13:18:41  \n",
       "50%           2025-03-16 00:26:26  \n",
       "75%           2025-03-23 20:38:29  \n",
       "max           2025-04-01 00:59:33  "
      ]
     },
     "execution_count": 111,
     "metadata": {},
     "output_type": "execute_result"
    }
   ],
   "source": [
    "df[[\"request_datetime\",\"pickup_datetime\",\"dropoff_datetime\"]].describe()"
   ]
  },
  {
   "cell_type": "markdown",
   "id": "4caf9e5a-5dc5-4a06-aa12-aa9e6a1e852b",
   "metadata": {},
   "source": [
    "#### Check for pre-bookings"
   ]
  },
  {
   "cell_type": "code",
   "execution_count": 114,
   "id": "3fd50077-5a1b-4de4-93ac-5a1d31044224",
   "metadata": {},
   "outputs": [
    {
     "data": {
      "text/plain": [
       "(19923813, 14)"
      ]
     },
     "execution_count": 114,
     "metadata": {},
     "output_type": "execute_result"
    }
   ],
   "source": [
    "df[df['request_datetime'] < df['pickup_datetime']].shape"
   ]
  },
  {
   "cell_type": "code",
   "execution_count": 116,
   "id": "70d455f3-8d71-4cbe-8c03-5b5b854e26fe",
   "metadata": {},
   "outputs": [
    {
     "data": {
      "text/plain": [
       "98.96627847883966"
      ]
     },
     "execution_count": 116,
     "metadata": {},
     "output_type": "execute_result"
    }
   ],
   "source": [
    "(19923813/20131921)*100"
   ]
  },
  {
   "cell_type": "markdown",
   "id": "d47ee072-6c0a-410e-a35e-2f48dcc1d4da",
   "metadata": {},
   "source": [
    "#### Checking records whose pickup and dropoff location same"
   ]
  },
  {
   "cell_type": "code",
   "execution_count": 122,
   "id": "f0ca8299-1ec0-4a3c-85e3-8092513106f3",
   "metadata": {},
   "outputs": [
    {
     "data": {
      "text/plain": [
       "(1528346, 14)"
      ]
     },
     "execution_count": 122,
     "metadata": {},
     "output_type": "execute_result"
    }
   ],
   "source": [
    "df[df[\"PULocationID\"] == df[\"DOLocationID\"]].shape"
   ]
  },
  {
   "cell_type": "code",
   "execution_count": 146,
   "id": "238000ee-5b34-4646-84aa-c063d0ca8654",
   "metadata": {},
   "outputs": [
    {
     "data": {
      "text/plain": [
       "7.591655063617625"
      ]
     },
     "execution_count": 146,
     "metadata": {},
     "output_type": "execute_result"
    }
   ],
   "source": [
    "(1528346/20131921)*100"
   ]
  },
  {
   "cell_type": "markdown",
   "id": "56827224-83e1-4954-92e7-19917d28ed77",
   "metadata": {},
   "source": [
    "Almost 7.6 % of total trips are round trips"
   ]
  },
  {
   "cell_type": "markdown",
   "id": "c809b0a3-65f3-49b3-8d07-4ab4e756ec96",
   "metadata": {},
   "source": [
    "#### Checking did all Drop-offs happen after pickups:"
   ]
  },
  {
   "cell_type": "code",
   "execution_count": 131,
   "id": "d32719cb-a124-4d2c-a3f1-546ee3c35577",
   "metadata": {},
   "outputs": [
    {
     "data": {
      "text/plain": [
       "(0, 14)"
      ]
     },
     "execution_count": 131,
     "metadata": {},
     "output_type": "execute_result"
    }
   ],
   "source": [
    "df[df['dropoff_datetime'] < df['pickup_datetime']].shape"
   ]
  },
  {
   "cell_type": "markdown",
   "id": "a341d5d4-b950-46ec-bdb3-38391566e887",
   "metadata": {},
   "source": [
    "#### Checking for instant bookings"
   ]
  },
  {
   "cell_type": "code",
   "execution_count": 134,
   "id": "ddc30921-98fa-4108-acaa-ab545f26c438",
   "metadata": {},
   "outputs": [
    {
     "data": {
      "text/plain": [
       "(205, 14)"
      ]
     },
     "execution_count": 134,
     "metadata": {},
     "output_type": "execute_result"
    }
   ],
   "source": [
    "df[df['request_datetime'] == df['pickup_datetime']].shape   "
   ]
  },
  {
   "cell_type": "markdown",
   "id": "a23df06d-cac5-4f49-9e64-d5d378cb4eac",
   "metadata": {},
   "source": [
    "#### Removing Time zone inconsistencies"
   ]
  },
  {
   "cell_type": "code",
   "execution_count": 137,
   "id": "cfa307eb-82da-4180-867e-c31a5156737e",
   "metadata": {},
   "outputs": [
    {
     "data": {
      "text/plain": [
       "(207903, 14)"
      ]
     },
     "execution_count": 137,
     "metadata": {},
     "output_type": "execute_result"
    }
   ],
   "source": [
    "df[df['request_datetime'] > df['pickup_datetime']].shape   # approximately 1%"
   ]
  },
  {
   "cell_type": "code",
   "execution_count": 139,
   "id": "c8c3ec12-2044-4f13-a0ef-17383423940c",
   "metadata": {},
   "outputs": [
    {
     "data": {
      "text/plain": [
       "1.0327032378082548"
      ]
     },
     "execution_count": 139,
     "metadata": {},
     "output_type": "execute_result"
    }
   ],
   "source": [
    "(207903/20131921)*100"
   ]
  },
  {
   "cell_type": "markdown",
   "id": "5b329c1e-50a1-449a-bd03-578e0bf81ada",
   "metadata": {},
   "source": [
    "Filtering due to data quality issues "
   ]
  },
  {
   "cell_type": "code",
   "execution_count": 142,
   "id": "e6884a84-abe8-45fa-819c-659165b5de1c",
   "metadata": {},
   "outputs": [],
   "source": [
    "df = df[df['request_datetime'] <= df['pickup_datetime']]"
   ]
  },
  {
   "cell_type": "code",
   "execution_count": null,
   "id": "181b4060-bd4a-45a7-bc88-8bef56aa0cbf",
   "metadata": {},
   "outputs": [],
   "source": []
  },
  {
   "cell_type": "code",
   "execution_count": null,
   "id": "b050bf0a-8481-4948-aac7-3fa29f6e20b0",
   "metadata": {},
   "outputs": [],
   "source": []
  },
  {
   "cell_type": "code",
   "execution_count": null,
   "id": "183690ad-183b-47f9-bb80-42bab7c8a177",
   "metadata": {},
   "outputs": [],
   "source": []
  },
  {
   "cell_type": "code",
   "execution_count": null,
   "id": "17e3e6ba-c132-4de2-8fd2-7fc7504e654d",
   "metadata": {},
   "outputs": [],
   "source": []
  },
  {
   "cell_type": "code",
   "execution_count": null,
   "id": "482b008d-e3ce-47a2-95ae-eee6d314a00a",
   "metadata": {},
   "outputs": [],
   "source": []
  }
 ],
 "metadata": {
  "kernelspec": {
   "display_name": "Python [conda env:base] *",
   "language": "python",
   "name": "conda-base-py"
  },
  "language_info": {
   "codemirror_mode": {
    "name": "ipython",
    "version": 3
   },
   "file_extension": ".py",
   "mimetype": "text/x-python",
   "name": "python",
   "nbconvert_exporter": "python",
   "pygments_lexer": "ipython3",
   "version": "3.12.7"
  }
 },
 "nbformat": 4,
 "nbformat_minor": 5
}
