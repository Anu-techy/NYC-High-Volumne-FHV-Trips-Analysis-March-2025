{
 "cells": [
  {
   "cell_type": "markdown",
   "id": "ed465a4d-ea3b-438a-bb12-74af402f1cf0",
   "metadata": {},
   "source": [
    "<h1 align=\"center\" style=\"color:blue\">NYC Trips Volume Prediction </h1>"
   ]
  },
  {
   "cell_type": "code",
   "execution_count": 1,
   "id": "b55fef26-ad86-47a7-9731-0b9e169a17ee",
   "metadata": {},
   "outputs": [],
   "source": [
    "import pandas as pd\n",
    "import numpy as np\n",
    "import matplotlib.pyplot as plt\n",
    "import seaborn as sns\n",
    "import warnings\n",
    "warnings.filterwarnings('ignore')"
   ]
  },
  {
   "cell_type": "code",
   "execution_count": 217,
   "id": "1336a074-7591-4349-abd0-5a099baa9a9f",
   "metadata": {},
   "outputs": [
    {
     "data": {
      "text/plain": [
       "Index(['pickup_day', 'pickup_hour', 'PU_Borough', 'PU_Zone', 'DO_Borough',\n",
       "       'DO_Zone', 'avg_trip_miles', 'total_trips', 'avg_trip_time',\n",
       "       'total_driver_pay', 'total_tips', 'total_airport_fee',\n",
       "       'sum_total_congestion', 'avg_base_passenger_fare'],\n",
       "      dtype='object')"
      ]
     },
     "execution_count": 217,
     "metadata": {},
     "output_type": "execute_result"
    }
   ],
   "source": [
    "df = pd.read_csv(\"trip_summary_from_df.csv\")\n",
    "df.columns"
   ]
  },
  {
   "cell_type": "code",
   "execution_count": 219,
   "id": "f3c5aec4-cb08-4959-b4b0-f3328503ca13",
   "metadata": {},
   "outputs": [
    {
     "data": {
      "text/plain": [
       "(3049276, 14)"
      ]
     },
     "execution_count": 219,
     "metadata": {},
     "output_type": "execute_result"
    }
   ],
   "source": [
    "df.shape"
   ]
  },
  {
   "cell_type": "code",
   "execution_count": 221,
   "id": "f2c27a88-94a6-40e0-b324-e2962aa1f800",
   "metadata": {},
   "outputs": [
    {
     "data": {
      "text/html": [
       "<div>\n",
       "<style scoped>\n",
       "    .dataframe tbody tr th:only-of-type {\n",
       "        vertical-align: middle;\n",
       "    }\n",
       "\n",
       "    .dataframe tbody tr th {\n",
       "        vertical-align: top;\n",
       "    }\n",
       "\n",
       "    .dataframe thead th {\n",
       "        text-align: right;\n",
       "    }\n",
       "</style>\n",
       "<table border=\"1\" class=\"dataframe\">\n",
       "  <thead>\n",
       "    <tr style=\"text-align: right;\">\n",
       "      <th></th>\n",
       "      <th>pickup_day</th>\n",
       "      <th>pickup_hour</th>\n",
       "      <th>PU_Borough</th>\n",
       "      <th>PU_Zone</th>\n",
       "      <th>DO_Borough</th>\n",
       "      <th>DO_Zone</th>\n",
       "      <th>avg_trip_miles</th>\n",
       "      <th>total_trips</th>\n",
       "      <th>avg_trip_time</th>\n",
       "      <th>total_driver_pay</th>\n",
       "      <th>total_tips</th>\n",
       "      <th>total_airport_fee</th>\n",
       "      <th>sum_total_congestion</th>\n",
       "      <th>avg_base_passenger_fare</th>\n",
       "    </tr>\n",
       "  </thead>\n",
       "  <tbody>\n",
       "    <tr>\n",
       "      <th>0</th>\n",
       "      <td>Saturday</td>\n",
       "      <td>0</td>\n",
       "      <td>Brooklyn</td>\n",
       "      <td>Williamsburg (North Side)</td>\n",
       "      <td>Brooklyn</td>\n",
       "      <td>Williamsburg (South Side)</td>\n",
       "      <td>1.011874</td>\n",
       "      <td>246</td>\n",
       "      <td>6.595461</td>\n",
       "      <td>1825.72</td>\n",
       "      <td>98.73</td>\n",
       "      <td>6.0</td>\n",
       "      <td>0.00</td>\n",
       "      <td>12.287765</td>\n",
       "    </tr>\n",
       "    <tr>\n",
       "      <th>1</th>\n",
       "      <td>Saturday</td>\n",
       "      <td>0</td>\n",
       "      <td>Brooklyn</td>\n",
       "      <td>Williamsburg (South Side)</td>\n",
       "      <td>Manhattan</td>\n",
       "      <td>Central Park</td>\n",
       "      <td>8.183750</td>\n",
       "      <td>4</td>\n",
       "      <td>27.470833</td>\n",
       "      <td>139.49</td>\n",
       "      <td>8.63</td>\n",
       "      <td>0.0</td>\n",
       "      <td>12.75</td>\n",
       "      <td>53.270000</td>\n",
       "    </tr>\n",
       "    <tr>\n",
       "      <th>2</th>\n",
       "      <td>Saturday</td>\n",
       "      <td>0</td>\n",
       "      <td>Brooklyn</td>\n",
       "      <td>Manhattan Beach</td>\n",
       "      <td>Brooklyn</td>\n",
       "      <td>Bensonhurst East</td>\n",
       "      <td>3.290933</td>\n",
       "      <td>15</td>\n",
       "      <td>10.745556</td>\n",
       "      <td>181.34</td>\n",
       "      <td>5.00</td>\n",
       "      <td>0.0</td>\n",
       "      <td>0.00</td>\n",
       "      <td>16.145334</td>\n",
       "    </tr>\n",
       "    <tr>\n",
       "      <th>3</th>\n",
       "      <td>Saturday</td>\n",
       "      <td>0</td>\n",
       "      <td>Brooklyn</td>\n",
       "      <td>Bath Beach</td>\n",
       "      <td>Queens</td>\n",
       "      <td>Elmhurst/Maspeth</td>\n",
       "      <td>14.780000</td>\n",
       "      <td>1</td>\n",
       "      <td>25.933332</td>\n",
       "      <td>36.58</td>\n",
       "      <td>0.00</td>\n",
       "      <td>0.0</td>\n",
       "      <td>0.00</td>\n",
       "      <td>42.010000</td>\n",
       "    </tr>\n",
       "    <tr>\n",
       "      <th>4</th>\n",
       "      <td>Saturday</td>\n",
       "      <td>0</td>\n",
       "      <td>Queens</td>\n",
       "      <td>Rosedale</td>\n",
       "      <td>Queens</td>\n",
       "      <td>Rosedale</td>\n",
       "      <td>1.106354</td>\n",
       "      <td>48</td>\n",
       "      <td>5.619097</td>\n",
       "      <td>281.33</td>\n",
       "      <td>7.00</td>\n",
       "      <td>0.0</td>\n",
       "      <td>0.00</td>\n",
       "      <td>9.020625</td>\n",
       "    </tr>\n",
       "  </tbody>\n",
       "</table>\n",
       "</div>"
      ],
      "text/plain": [
       "  pickup_day  pickup_hour PU_Borough                    PU_Zone DO_Borough  \\\n",
       "0   Saturday            0   Brooklyn  Williamsburg (North Side)   Brooklyn   \n",
       "1   Saturday            0   Brooklyn  Williamsburg (South Side)  Manhattan   \n",
       "2   Saturday            0   Brooklyn            Manhattan Beach   Brooklyn   \n",
       "3   Saturday            0   Brooklyn                 Bath Beach     Queens   \n",
       "4   Saturday            0     Queens                   Rosedale     Queens   \n",
       "\n",
       "                     DO_Zone  avg_trip_miles  total_trips  avg_trip_time  \\\n",
       "0  Williamsburg (South Side)        1.011874          246       6.595461   \n",
       "1               Central Park        8.183750            4      27.470833   \n",
       "2           Bensonhurst East        3.290933           15      10.745556   \n",
       "3           Elmhurst/Maspeth       14.780000            1      25.933332   \n",
       "4                   Rosedale        1.106354           48       5.619097   \n",
       "\n",
       "   total_driver_pay  total_tips  total_airport_fee  sum_total_congestion  \\\n",
       "0           1825.72       98.73                6.0                  0.00   \n",
       "1            139.49        8.63                0.0                 12.75   \n",
       "2            181.34        5.00                0.0                  0.00   \n",
       "3             36.58        0.00                0.0                  0.00   \n",
       "4            281.33        7.00                0.0                  0.00   \n",
       "\n",
       "   avg_base_passenger_fare  \n",
       "0                12.287765  \n",
       "1                53.270000  \n",
       "2                16.145334  \n",
       "3                42.010000  \n",
       "4                 9.020625  "
      ]
     },
     "execution_count": 221,
     "metadata": {},
     "output_type": "execute_result"
    }
   ],
   "source": [
    "df.head()"
   ]
  },
  {
   "cell_type": "markdown",
   "id": "7a9b4b87-1f83-475e-9c0f-6d6dbf2bfe83",
   "metadata": {},
   "source": [
    "<h2 align=\"center\" style=\"color:blue\">Data Cleaning</h2>"
   ]
  },
  {
   "cell_type": "markdown",
   "id": "5d7e3369-f668-49c4-996d-0598b92017be",
   "metadata": {},
   "source": [
    "### Remove correlated columns"
   ]
  },
  {
   "cell_type": "code",
   "execution_count": 223,
   "id": "331fe053-0e8e-473e-88db-ea0d29c917e2",
   "metadata": {},
   "outputs": [],
   "source": [
    "df = df.drop(columns=['total_driver_pay', 'total_tips', 'total_airport_fee', 'sum_total_congestion'])"
   ]
  },
  {
   "cell_type": "markdown",
   "id": "017736c7-f751-49dc-bbde-d1b245c596e9",
   "metadata": {},
   "source": [
    "### Handling Nulls"
   ]
  },
  {
   "cell_type": "code",
   "execution_count": 226,
   "id": "1267ac4d-4ca1-40b1-9a23-c647c3c23e4b",
   "metadata": {},
   "outputs": [
    {
     "data": {
      "text/plain": [
       "(3009756, 10)"
      ]
     },
     "execution_count": 226,
     "metadata": {},
     "output_type": "execute_result"
    }
   ],
   "source": [
    "# Remove rows where zone names are missing\n",
    "location_cols = ['PU_Borough', 'PU_Zone', 'DO_Borough', 'DO_Zone']\n",
    "\n",
    "df = df.dropna(subset=location_cols)\n",
    "\n",
    "df.shape"
   ]
  },
  {
   "cell_type": "code",
   "execution_count": 227,
   "id": "b5b70025-a3c1-4efc-8d1d-79dcd737a223",
   "metadata": {},
   "outputs": [
    {
     "data": {
      "text/plain": [
       "pickup_day                 0\n",
       "pickup_hour                0\n",
       "PU_Borough                 0\n",
       "PU_Zone                    0\n",
       "DO_Borough                 0\n",
       "DO_Zone                    0\n",
       "avg_trip_miles             0\n",
       "total_trips                0\n",
       "avg_trip_time              0\n",
       "avg_base_passenger_fare    0\n",
       "dtype: int64"
      ]
     },
     "execution_count": 227,
     "metadata": {},
     "output_type": "execute_result"
    }
   ],
   "source": [
    "df.isnull().sum()"
   ]
  },
  {
   "cell_type": "code",
   "execution_count": 26,
   "id": "02c3187e-dd9f-444a-884b-38360db92d7f",
   "metadata": {},
   "outputs": [
    {
     "data": {
      "text/plain": [
       "0"
      ]
     },
     "execution_count": 26,
     "metadata": {},
     "output_type": "execute_result"
    }
   ],
   "source": [
    "df.duplicated().sum()"
   ]
  },
  {
   "cell_type": "markdown",
   "id": "5fbbb30f-5ec5-4f7a-8c64-3839d277659c",
   "metadata": {},
   "source": [
    "<h2 align=\"center\" style=\"color:blue\"> Pickup_day (cycle encoding) </h2>"
   ]
  },
  {
   "cell_type": "code",
   "execution_count": 230,
   "id": "655dee62-e110-4848-80a9-58eb9fa7dca2",
   "metadata": {},
   "outputs": [
    {
     "data": {
      "text/plain": [
       "array(['Saturday', 'Sunday', 'Monday', 'Tuesday', 'Wednesday', 'Thursday',\n",
       "       'Friday'], dtype=object)"
      ]
     },
     "execution_count": 230,
     "metadata": {},
     "output_type": "execute_result"
    }
   ],
   "source": [
    "df['pickup_day'].unique()"
   ]
  },
  {
   "cell_type": "code",
   "execution_count": 232,
   "id": "eb75bdb9-655f-4424-a9fb-c2451d4304d8",
   "metadata": {},
   "outputs": [],
   "source": [
    "day_map = {\n",
    "    'Monday': 0, 'Tuesday': 1, 'Wednesday': 2, 'Thursday': 3,\n",
    "    'Friday': 4, 'Saturday': 5, 'Sunday': 6\n",
    "}\n",
    "df['pickup_day'] = df['pickup_day'].map(day_map)"
   ]
  },
  {
   "cell_type": "code",
   "execution_count": 234,
   "id": "701be6d9-dd9c-4310-904a-c9f6527c67fb",
   "metadata": {},
   "outputs": [],
   "source": [
    "df['pickup_day'] = df['pickup_day'].astype(int)"
   ]
  },
  {
   "cell_type": "code",
   "execution_count": 236,
   "id": "93fa9829-311d-44e3-8c64-8dfb9dd4aead",
   "metadata": {},
   "outputs": [],
   "source": [
    "df['pickup_day_sin'] = np.sin(2 * np.pi * df['pickup_day'] / 7)\n",
    "df['pickup_day_cos'] = np.cos(2 * np.pi * df['pickup_day'] / 7)"
   ]
  },
  {
   "cell_type": "markdown",
   "id": "b14bd927-1cae-47f2-aced-86fdc73f1069",
   "metadata": {},
   "source": [
    "<h2 align=\"center\" style=\"color:blue\"> Pickup_hour (cycle encoding) </h2>"
   ]
  },
  {
   "cell_type": "code",
   "execution_count": 238,
   "id": "3d867201-0b5e-489f-83d9-3a8d33e04f58",
   "metadata": {},
   "outputs": [],
   "source": [
    "df['pickup_hour'] = pd.to_numeric(df['pickup_hour'], errors='coerce')"
   ]
  },
  {
   "cell_type": "code",
   "execution_count": 240,
   "id": "4df64f72-5c40-40a3-a44b-3b0ac10df63b",
   "metadata": {},
   "outputs": [],
   "source": [
    "df['pickup_hour_sin'] = np.sin(2 * np.pi * df['pickup_hour'] / 24)\n",
    "df['pickup_hour_cos'] = np.cos(2 * np.pi * df['pickup_hour'] / 24)"
   ]
  },
  {
   "cell_type": "markdown",
   "id": "a4e206cb-b301-4731-845d-6bbc687b9042",
   "metadata": {},
   "source": [
    "<h2 align=\"center\" style=\"color:blue\"> is_weekend, avg_speed, fare_per_mile </h2>"
   ]
  },
  {
   "cell_type": "code",
   "execution_count": 243,
   "id": "e6e147d6-6184-4daa-aed8-502b9f4f00f2",
   "metadata": {},
   "outputs": [],
   "source": [
    "df['is_weekend'] = df['pickup_day'].apply(lambda x: 1 if x >= 5 else 0)"
   ]
  },
  {
   "cell_type": "code",
   "execution_count": 244,
   "id": "f87b1a67-7a09-41df-8c21-c2d91f9160bb",
   "metadata": {},
   "outputs": [],
   "source": [
    "df['avg_speed'] = df['avg_trip_miles'] / df['avg_trip_time'].replace(0, np.nan)\n",
    "df['fare_per_mile'] = df['avg_base_passenger_fare'] / df['avg_trip_miles'].replace(0, np.nan)"
   ]
  },
  {
   "cell_type": "markdown",
   "id": "1325ad49-3a15-4ea8-ae3d-c5baf1b58a39",
   "metadata": {},
   "source": [
    "<h2 align=\"center\" style=\"color:blue\"> trip_length_category (ordinal encoding) </h2>"
   ]
  },
  {
   "cell_type": "code",
   "execution_count": 246,
   "id": "d020d538-702c-43f0-8565-a223647e1c99",
   "metadata": {},
   "outputs": [],
   "source": [
    "bins = [0, 2, 5, np.inf]  # short <2, medium 2-5, long >5 miles\n",
    "labels = ['short', 'medium', 'long']\n",
    "df['trip_length_cat'] = pd.cut(df['avg_trip_miles'], bins=bins, labels=labels)"
   ]
  },
  {
   "cell_type": "code",
   "execution_count": 247,
   "id": "67713f49-afb6-4f9c-b150-cd41d411012d",
   "metadata": {},
   "outputs": [
    {
     "data": {
      "text/plain": [
       "['short', 'long', 'medium']\n",
       "Categories (3, object): ['short' < 'medium' < 'long']"
      ]
     },
     "execution_count": 247,
     "metadata": {},
     "output_type": "execute_result"
    }
   ],
   "source": [
    "df['trip_length_cat'].unique()"
   ]
  },
  {
   "cell_type": "code",
   "execution_count": 252,
   "id": "a0ea5cdb-8977-477f-970f-cb03bcd7512d",
   "metadata": {},
   "outputs": [],
   "source": [
    "from sklearn.preprocessing import OrdinalEncoder\n",
    "\n",
    "encoder = OrdinalEncoder(categories=[['short', 'medium', 'long']])\n",
    "df['trip_length_cat_encoded'] = encoder.fit_transform(df[['trip_length_cat']])"
   ]
  },
  {
   "cell_type": "code",
   "execution_count": 253,
   "id": "a39bef7d-8e8f-4d96-a89d-ceabe943ad7b",
   "metadata": {},
   "outputs": [
    {
     "data": {
      "text/plain": [
       "array([0., 2., 1.])"
      ]
     },
     "execution_count": 253,
     "metadata": {},
     "output_type": "execute_result"
    }
   ],
   "source": [
    "df['trip_length_cat_encoded'].unique()"
   ]
  },
  {
   "cell_type": "markdown",
   "id": "cbf16ef7-c92b-4caf-916f-4952a5097dee",
   "metadata": {},
   "source": [
    "<h2 align=\"center\" style=\"color:blue\"> PU_Borough, DO_Borough (one-hot encoding) </h2>"
   ]
  },
  {
   "cell_type": "code",
   "execution_count": 257,
   "id": "4f949644-11eb-4e73-b3d9-d7045b6bee8a",
   "metadata": {},
   "outputs": [
    {
     "name": "stdout",
     "output_type": "stream",
     "text": [
      "      PU_Borough  Total_Trips\n",
      "0      Manhattan      7051812\n",
      "1       Brooklyn      5353011\n",
      "2         Queens      3984179\n",
      "3          Bronx      2525637\n",
      "4  Staten Island       303269\n"
     ]
    }
   ],
   "source": [
    "borough_trips = df.groupby('PU_Borough')['total_trips'].sum().sort_values(ascending=False)\n",
    "\n",
    "# Convert to DataFrame for tabular display\n",
    "borough_trips_table = borough_trips.reset_index()\n",
    "borough_trips_table.columns = ['PU_Borough', 'Total_Trips']\n",
    "\n",
    "print(borough_trips_table)"
   ]
  },
  {
   "cell_type": "code",
   "execution_count": 259,
   "id": "5ce3eb40-8480-40eb-8751-c2caeacac517",
   "metadata": {},
   "outputs": [
    {
     "name": "stdout",
     "output_type": "stream",
     "text": [
      "      DO_Borough  Total_Trips\n",
      "0      Manhattan      6739795\n",
      "1       Brooklyn      5384748\n",
      "2         Queens      4124466\n",
      "3          Bronx      2543123\n",
      "4  Staten Island       299494\n",
      "5            EWR       126282\n"
     ]
    }
   ],
   "source": [
    "borough_trips = df.groupby('DO_Borough')['total_trips'].sum().sort_values(ascending=False)\n",
    "\n",
    "# Convert to DataFrame for tabular display\n",
    "borough_trips_table = borough_trips.reset_index()\n",
    "borough_trips_table.columns = ['DO_Borough', 'Total_Trips']\n",
    "\n",
    "print(borough_trips_table)"
   ]
  },
  {
   "cell_type": "code",
   "execution_count": 260,
   "id": "d34f6310-27b0-4cdb-a42d-15f81b1b0f64",
   "metadata": {},
   "outputs": [],
   "source": [
    "df = pd.get_dummies(df, columns=['PU_Borough', 'DO_Borough'], prefix=['PU', 'DO'], drop_first=False)"
   ]
  },
  {
   "cell_type": "markdown",
   "id": "511dbef4-d6f4-4c4a-953c-34064be8a12c",
   "metadata": {},
   "source": [
    "<h2 align=\"center\" style=\"color:blue\"> PU_Zone, DO_Zone (frequency encoding) </h2>"
   ]
  },
  {
   "cell_type": "code",
   "execution_count": 263,
   "id": "4d3a9a2c-664e-461f-9990-5cd808e0d8f4",
   "metadata": {},
   "outputs": [],
   "source": [
    "# replacing high-cardinality zone names with its frequency (how many times it appears).\n",
    "# Captures importance, doesn’t leak target.\n",
    "\n",
    "# Pickup zone frequency encoding\n",
    "freq_map_pu = df['PU_Zone'].value_counts().to_dict()\n",
    "df['PU_Zone_freq'] = df['PU_Zone'].map(freq_map_pu)\n",
    "\n",
    "# Dropoff zone frequency encoding\n",
    "freq_map_do = df['DO_Zone'].value_counts().to_dict()\n",
    "df['DO_Zone_freq'] = df['DO_Zone'].map(freq_map_do)"
   ]
  },
  {
   "cell_type": "markdown",
   "id": "ed9838fb-f973-4810-a961-1bd8bc1f77ae",
   "metadata": {},
   "source": [
    "<h2 align=\"center\" style=\"color:blue\"> Feature Selection </h2>"
   ]
  },
  {
   "cell_type": "code",
   "execution_count": 266,
   "id": "a9340491-9d68-4fba-8c9b-04269fb71cb4",
   "metadata": {},
   "outputs": [
    {
     "data": {
      "text/plain": [
       "Index(['pickup_day', 'pickup_hour', 'PU_Zone', 'DO_Zone', 'avg_trip_miles',\n",
       "       'total_trips', 'avg_trip_time', 'avg_base_passenger_fare',\n",
       "       'pickup_day_sin', 'pickup_day_cos', 'pickup_hour_sin',\n",
       "       'pickup_hour_cos', 'is_weekend', 'avg_speed', 'fare_per_mile',\n",
       "       'trip_length_cat', 'trip_length_cat_encoded', 'PU_Bronx', 'PU_Brooklyn',\n",
       "       'PU_Manhattan', 'PU_Queens', 'PU_Staten Island', 'DO_Bronx',\n",
       "       'DO_Brooklyn', 'DO_EWR', 'DO_Manhattan', 'DO_Queens',\n",
       "       'DO_Staten Island', 'PU_Zone_freq', 'DO_Zone_freq'],\n",
       "      dtype='object')"
      ]
     },
     "execution_count": 266,
     "metadata": {},
     "output_type": "execute_result"
    }
   ],
   "source": [
    "df.columns"
   ]
  },
  {
   "cell_type": "code",
   "execution_count": 268,
   "id": "63774143-f758-4832-a107-f2846f47d122",
   "metadata": {},
   "outputs": [],
   "source": [
    "df = df.drop(columns=['pickup_day','pickup_hour','PU_Zone', 'DO_Zone','avg_trip_miles','avg_trip_time', 'trip_length_cat'])"
   ]
  },
  {
   "cell_type": "code",
   "execution_count": 270,
   "id": "eec79214-58f3-48f2-8468-a11cbb1dec55",
   "metadata": {},
   "outputs": [
    {
     "data": {
      "text/plain": [
       "(3009756, 23)"
      ]
     },
     "execution_count": 270,
     "metadata": {},
     "output_type": "execute_result"
    }
   ],
   "source": [
    "df.shape"
   ]
  },
  {
   "cell_type": "markdown",
   "id": "01fb0002-686b-4dfd-9fe0-bca75e6a112f",
   "metadata": {},
   "source": [
    "<h2 align=\"center\" style=\"color:blue\"> Optimize Datatypes of features </h2>"
   ]
  },
  {
   "cell_type": "code",
   "execution_count": 272,
   "id": "3049f940-dd8f-4a4c-a901-bd5f46db0bf9",
   "metadata": {},
   "outputs": [
    {
     "name": "stdout",
     "output_type": "stream",
     "text": [
      "<class 'pandas.core.frame.DataFrame'>\n",
      "Index: 3009756 entries, 0 to 3049275\n",
      "Data columns (total 23 columns):\n",
      " #   Column                   Dtype  \n",
      "---  ------                   -----  \n",
      " 0   total_trips              int64  \n",
      " 1   avg_base_passenger_fare  float64\n",
      " 2   pickup_day_sin           float64\n",
      " 3   pickup_day_cos           float64\n",
      " 4   pickup_hour_sin          float64\n",
      " 5   pickup_hour_cos          float64\n",
      " 6   is_weekend               int64  \n",
      " 7   avg_speed                float64\n",
      " 8   fare_per_mile            float64\n",
      " 9   trip_length_cat_encoded  float64\n",
      " 10  PU_Bronx                 bool   \n",
      " 11  PU_Brooklyn              bool   \n",
      " 12  PU_Manhattan             bool   \n",
      " 13  PU_Queens                bool   \n",
      " 14  PU_Staten Island         bool   \n",
      " 15  DO_Bronx                 bool   \n",
      " 16  DO_Brooklyn              bool   \n",
      " 17  DO_EWR                   bool   \n",
      " 18  DO_Manhattan             bool   \n",
      " 19  DO_Queens                bool   \n",
      " 20  DO_Staten Island         bool   \n",
      " 21  PU_Zone_freq             int64  \n",
      " 22  DO_Zone_freq             int64  \n",
      "dtypes: bool(11), float64(8), int64(4)\n",
      "memory usage: 330.1 MB\n"
     ]
    }
   ],
   "source": [
    "df.info()"
   ]
  },
  {
   "cell_type": "code",
   "execution_count": 274,
   "id": "c2e9e981-7f69-4119-b902-f9b01f373769",
   "metadata": {},
   "outputs": [
    {
     "name": "stdout",
     "output_type": "stream",
     "text": [
      "<class 'pandas.core.frame.DataFrame'>\n",
      "Index: 3009756 entries, 0 to 3049275\n",
      "Data columns (total 23 columns):\n",
      " #   Column                   Dtype  \n",
      "---  ------                   -----  \n",
      " 0   total_trips              int16  \n",
      " 1   avg_base_passenger_fare  float32\n",
      " 2   pickup_day_sin           float32\n",
      " 3   pickup_day_cos           float32\n",
      " 4   pickup_hour_sin          float32\n",
      " 5   pickup_hour_cos          float32\n",
      " 6   is_weekend               int8   \n",
      " 7   avg_speed                float32\n",
      " 8   fare_per_mile            float32\n",
      " 9   trip_length_cat_encoded  float32\n",
      " 10  PU_Bronx                 bool   \n",
      " 11  PU_Brooklyn              bool   \n",
      " 12  PU_Manhattan             bool   \n",
      " 13  PU_Queens                bool   \n",
      " 14  PU_Staten Island         bool   \n",
      " 15  DO_Bronx                 bool   \n",
      " 16  DO_Brooklyn              bool   \n",
      " 17  DO_EWR                   bool   \n",
      " 18  DO_Manhattan             bool   \n",
      " 19  DO_Queens                bool   \n",
      " 20  DO_Staten Island         bool   \n",
      " 21  PU_Zone_freq             int16  \n",
      " 22  DO_Zone_freq             int16  \n",
      "dtypes: bool(11), float32(8), int16(3), int8(1)\n",
      "memory usage: 166.5 MB\n",
      "None\n"
     ]
    }
   ],
   "source": [
    "# Optimize numeric types\n",
    "int_cols = df.select_dtypes(include=['int64']).columns\n",
    "float_cols = df.select_dtypes(include=['float64']).columns\n",
    "obj_cols = df.select_dtypes(include=['object']).columns\n",
    "\n",
    "# Downcast integers and floats\n",
    "df[int_cols] = df[int_cols].apply(pd.to_numeric, downcast='integer')\n",
    "df[float_cols] = df[float_cols].apply(pd.to_numeric, downcast='float')\n",
    "\n",
    "# Convert object columns to category if they are categorical\n",
    "for col in obj_cols:\n",
    "    if df[col].nunique() / len(df) < 0.5:  # heuristic: if less than 50% unique\n",
    "        df[col] = df[col].astype('category')\n",
    "\n",
    "# Check memory usage after optimization\n",
    "print(df.info(memory_usage='deep'))"
   ]
  },
  {
   "cell_type": "markdown",
   "id": "0106a075-df36-431b-9b98-f957931b5388",
   "metadata": {},
   "source": [
    "<h2 align=\"center\" style=\"color:blue\"> Train Test split </h2>"
   ]
  },
  {
   "cell_type": "code",
   "execution_count": 276,
   "id": "fff96710-ac2c-4b8f-87eb-76da929d9197",
   "metadata": {},
   "outputs": [],
   "source": [
    "from sklearn.model_selection import train_test_split\n",
    "\n",
    "X = df.drop(columns=['total_trips'])\n",
    "y = df['total_trips']\n",
    "\n",
    "X_train, X_test, y_train, y_test = train_test_split(X, y, test_size=0.2, random_state=42)"
   ]
  },
  {
   "cell_type": "markdown",
   "id": "77e5e2b9-117d-4281-85d0-e9c6e28aaf73",
   "metadata": {},
   "source": [
    "<h2 align=\"center\" style=\"color:blue\"> Scaling </h2>"
   ]
  },
  {
   "cell_type": "code",
   "execution_count": 278,
   "id": "9c7c20ee-de41-41ac-bff8-c715fe304ed7",
   "metadata": {},
   "outputs": [],
   "source": [
    "from sklearn.preprocessing import StandardScaler\n",
    "\n",
    "scaler = StandardScaler()\n",
    "X_train_scaled = scaler.fit_transform(X_train)\n",
    "X_test_scaled = scaler.transform(X_test)"
   ]
  },
  {
   "cell_type": "markdown",
   "id": "dad92064-f853-44ae-af1b-5e9ce4b58f3b",
   "metadata": {},
   "source": [
    "<h2 align=\"center\" style=\"color:blue\"> Train with Linear Models (Linear Regression, Ridge, and Lasso) </h2>"
   ]
  },
  {
   "cell_type": "code",
   "execution_count": 281,
   "id": "8cf828af-f87e-406b-8414-806d62ba648a",
   "metadata": {},
   "outputs": [
    {
     "name": "stdout",
     "output_type": "stream",
     "text": [
      "LinearRegression -> RMSE: 12.08, R2: 0.24\n",
      "Ridge -> RMSE: 12.08, R2: 0.24\n",
      "Lasso -> RMSE: 12.45, R2: 0.19\n"
     ]
    }
   ],
   "source": [
    "from sklearn.linear_model import LinearRegression, Ridge, Lasso\n",
    "from sklearn.metrics import mean_squared_error, r2_score\n",
    "\n",
    "\n",
    "# Initialize models\n",
    "models = {\n",
    "    'LinearRegression': LinearRegression(),\n",
    "    'Ridge': Ridge(alpha=10.0, random_state=42),\n",
    "    'Lasso': Lasso(alpha=1, random_state=42, max_iter=5000)\n",
    "}\n",
    "\n",
    "# Train and evaluate\n",
    "for name, model in models.items():\n",
    "    model.fit(X_train_scaled, y_train)\n",
    "    y_pred = model.predict(X_test_scaled)\n",
    "    \n",
    "    rmse = mean_squared_error(y_test, y_pred, squared=False)\n",
    "    r2 = r2_score(y_test, y_pred)\n",
    "    \n",
    "    print(f'{name} -> RMSE: {rmse:.2f}, R2: {r2:.2f}')"
   ]
  },
  {
   "cell_type": "markdown",
   "id": "e8e3caf3-c0eb-4f94-a821-78bcf10427e1",
   "metadata": {},
   "source": [
    "<h2 align=\"center\" style=\"color:blue\"> HistGradientBoostingRegressor </h2>"
   ]
  },
  {
   "cell_type": "code",
   "execution_count": 284,
   "id": "f2b08c27-75d0-43d2-b505-64ae0256bdf0",
   "metadata": {},
   "outputs": [
    {
     "name": "stdout",
     "output_type": "stream",
     "text": [
      "HGB -> RMSE: 5.79, R2: 0.83\n"
     ]
    }
   ],
   "source": [
    "from sklearn.ensemble import HistGradientBoostingRegressor\n",
    "from sklearn.metrics import mean_squared_error, r2_score\n",
    "\n",
    "# Initialize\n",
    "hgb = HistGradientBoostingRegressor(\n",
    "    max_iter=500,\n",
    "    learning_rate=0.1,\n",
    "    max_depth=10,\n",
    "    min_samples_leaf=20,\n",
    "    random_state=42\n",
    ")\n",
    "\n",
    "# Fit\n",
    "hgb.fit(X_train, y_train)\n",
    "\n",
    "# Predict\n",
    "y_pred = hgb.predict(X_test)\n",
    "\n",
    "# Evaluate\n",
    "rmse = mean_squared_error(y_test, y_pred, squared=False)\n",
    "r2 = r2_score(y_test, y_pred)\n",
    "\n",
    "print(f'HGB -> RMSE: {rmse:.2f}, R2: {r2:.2f}')"
   ]
  },
  {
   "cell_type": "markdown",
   "id": "9fb387cf-4213-41d8-a897-35635492f9c7",
   "metadata": {},
   "source": [
    "<h2 align=\"center\" style=\"color:blue\"> Check Overfitting </h2>"
   ]
  },
  {
   "cell_type": "code",
   "execution_count": 296,
   "id": "dda6c965-ef58-4a79-8c69-43fc0feaa97f",
   "metadata": {},
   "outputs": [
    {
     "name": "stdout",
     "output_type": "stream",
     "text": [
      "Train RMSE: 5.58, R²: 0.83\n",
      "Test RMSE:  5.79, R²: 0.83\n"
     ]
    }
   ],
   "source": [
    "from sklearn.metrics import mean_squared_error, r2_score\n",
    "import numpy as np\n",
    "\n",
    "# Predictions\n",
    "y_train_pred = hgb.predict(X_train)\n",
    "y_test_pred = hgb.predict(X_test)\n",
    "\n",
    "# Train metrics\n",
    "train_rmse = np.sqrt(mean_squared_error(y_train, y_train_pred))\n",
    "train_r2 = r2_score(y_train, y_train_pred)\n",
    "\n",
    "# Test metrics\n",
    "test_rmse = np.sqrt(mean_squared_error(y_test, y_test_pred))\n",
    "test_r2 = r2_score(y_test, y_test_pred)\n",
    "\n",
    "print(f\"Train RMSE: {train_rmse:.2f}, R²: {train_r2:.2f}\")\n",
    "print(f\"Test RMSE:  {test_rmse:.2f}, R²: {test_r2:.2f}\")"
   ]
  },
  {
   "cell_type": "markdown",
   "id": "dc12b2d7-e516-4bf1-a9b5-20a144c2e899",
   "metadata": {},
   "source": [
    "<h2 align=\"center\" style=\"color:blue\"> Conclusion </h2>"
   ]
  },
  {
   "cell_type": "markdown",
   "id": "745f1e28-aad8-455f-bb50-bed390d54eb2",
   "metadata": {},
   "source": [
    "Baseline linear models (Linear Regression, Ridge, Lasso) performed poorly, with RMSE ≈ 12.1 and R² ≈ 0.24, \n",
    "indicating they could not capture the complex, non-linear relationships in the data.\n",
    "\n",
    "After testing advanced models, the Histogram Gradient Boosting Regressor (HGB) achieved RMSE ≈ 5.79 and R² ≈ 0.83, \n",
    "a major improvement in accuracy and explanatory power. The model was checked for overfitting and found to generalize well."
   ]
  },
  {
   "cell_type": "code",
   "execution_count": null,
   "id": "6630080d-1b6f-4a68-98d3-266f983d0436",
   "metadata": {},
   "outputs": [],
   "source": []
  },
  {
   "cell_type": "code",
   "execution_count": null,
   "id": "51f85a4c-cc32-4fbb-84c2-6446a68e8271",
   "metadata": {},
   "outputs": [],
   "source": []
  },
  {
   "cell_type": "code",
   "execution_count": null,
   "id": "3e7e01c8-fe54-4db2-8f97-68c7ccf49917",
   "metadata": {},
   "outputs": [],
   "source": []
  }
 ],
 "metadata": {
  "kernelspec": {
   "display_name": "Python [conda env:base] *",
   "language": "python",
   "name": "conda-base-py"
  },
  "language_info": {
   "codemirror_mode": {
    "name": "ipython",
    "version": 3
   },
   "file_extension": ".py",
   "mimetype": "text/x-python",
   "name": "python",
   "nbconvert_exporter": "python",
   "pygments_lexer": "ipython3",
   "version": "3.12.7"
  }
 },
 "nbformat": 4,
 "nbformat_minor": 5
}
